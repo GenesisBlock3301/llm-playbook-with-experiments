{
 "cells": [
  {
   "cell_type": "code",
   "id": "initial_id",
   "metadata": {
    "collapsed": true,
    "ExecuteTime": {
     "end_time": "2025-10-07T09:28:46.653106Z",
     "start_time": "2025-10-07T09:28:46.099208Z"
    }
   },
   "source": [
    "from langgraph.graph import StateGraph, START, END\n",
    "from typing import TypedDict\n",
    "\n",
    "\n",
    "class MyState(TypedDict):\n",
    "    query: str\n",
    "    result: str\n",
    "\n",
    "\n",
    "def research_node(state: MyState) -> MyState:\n",
    "    state['result'] = f\"Searching info about {state['query']}\"\n",
    "    return state\n",
    "\n",
    "\n",
    "def summarize_node(state: MyState) -> MyState:\n",
    "    state['result'] = f\"Summarizing info about {state['query']}\"\n",
    "    return state\n",
    "\n",
    "\n",
    "graph = StateGraph(MyState)\n",
    "graph.add_node('research_node', research_node)\n",
    "graph.add_node('summarize_node', summarize_node)\n",
    "\n",
    "graph.add_edge(START, \"research_node\")\n",
    "graph.add_edge(\"research_node\", \"summarize_node\")\n",
    "graph.add_edge(\"summarize_node\", END)\n",
    "\n",
    "compiled_graph = graph.compile()\n",
    "display(compiled_graph)\n",
    "final_state = compiled_graph.invoke({\"query\": \"LangGraph\"})\n",
    "print(final_state)\n",
    "\n"
   ],
   "outputs": [
    {
     "data": {
      "text/plain": [
       "<langgraph.graph.state.CompiledStateGraph object at 0x77073f866780>"
      ],
      "image/png": "[encoded data removed]"
     },
     "metadata": {},
     "output_type": "display_data",
     "jetTransient": {
      "display_id": null
     }
    },
    {
     "name": "stdout",
     "output_type": "stream",
     "text": [
      "{'query': 'LangGraph', 'result': 'Summarizing info about LangGraph'}\n"
     ]
    }
   ],
   "execution_count": 2
  },
  {
   "metadata": {},
   "cell_type": "markdown",
   "source": "# Conditional Edges",
   "id": "2518b1a1c8fe7a25"
  },
  {
   "metadata": {
    "ExecuteTime": {
     "end_time": "2025-10-07T09:53:30.077919Z",
     "start_time": "2025-10-07T09:53:30.020377Z"
    }
   },
   "cell_type": "code",
   "source": [
    "from typing import TypedDict, Literal\n",
    "from IPython.display import display, Image\n",
    "\n",
    "\n",
    "class MyState(TypedDict):\n",
    "    query: str\n",
    "    result: str\n",
    "    confidence: float\n",
    "\n",
    "# Conditional routing\n",
    "def confidence_router(state: MyState) -> Literal['high', 'low']:\n",
    "    if state[\"confidence\"] > 0:\n",
    "        print(\"Deciding router: high confidence\")\n",
    "        return \"high\"\n",
    "    print(\"Deciding router: low confidence\")\n",
    "    return \"low\"\n",
    "\n",
    "def evaluate_node(state: MyState) -> MyState:\n",
    "    confidence = len(state[\"query\"]) % 2\n",
    "    print(\"Confidence:\", confidence)\n",
    "    state[\"confidence\"] = confidence\n",
    "    return state\n",
    "\n",
    "def high_confidence(state: MyState) -> MyState:\n",
    "    state[\"result\"] = \"AI is confident ✅\"\n",
    "    return state\n",
    "\n",
    "def low_confidence(state: MyState) -> MyState:\n",
    "    state[\"result\"] = \"Send to human for review 🧍\"\n",
    "    return state\n",
    "\n",
    "# Build graph\n",
    "graph = StateGraph(MyState)\n",
    "\n",
    "graph.add_node(\"evaluate\", evaluate_node)\n",
    "graph.add_node(\"high\", high_confidence)\n",
    "graph.add_node(\"low\", low_confidence)\n",
    "\n",
    "graph.add_edge(START, \"evaluate\")\n",
    "graph.add_conditional_edges(\"evaluate\", confidence_router)\n",
    "graph.add_edge(\"high\", END)\n",
    "graph.add_edge(\"low\", END)\n",
    "\n",
    "compiled_graph = graph.compile()\n",
    "\n",
    "# Display graph\n",
    "display(compiled_graph)\n",
    "\n",
    "# Invoke graph\n",
    "final = compiled_graph.invoke({\"query\": \"LangGraph\"})\n",
    "print(final[\"result\"])\n"
   ],
   "id": "400528d977a50f3a",
   "outputs": [
    {
     "data": {
      "text/plain": [
       "<langgraph.graph.state.CompiledStateGraph object at 0x77073e543290>"
      ],
      "image/png": "[encoded data removed]"
     },
     "metadata": {},
     "output_type": "display_data",
     "jetTransient": {
      "display_id": null
     }
    },
    {
     "name": "stdout",
     "output_type": "stream",
     "text": [
      "Confidence: 1\n",
      "Deciding router: high confidence\n",
      "AI is confident ✅\n"
     ]
    }
   ],
   "execution_count": 24
  },
  {
   "metadata": {},
   "cell_type": "code",
   "outputs": [],
   "execution_count": null,
   "source": "",
   "id": "552c2a622ec9edcd"
  }
 ],
 "metadata": {
  "kernelspec": {
   "display_name": "Python 3",
   "language": "python",
   "name": "python3"
  },
  "language_info": {
   "codemirror_mode": {
    "name": "ipython",
    "version": 2
   },
   "file_extension": ".py",
   "mimetype": "text/x-python",
   "name": "python",
   "nbconvert_exporter": "python",
   "pygments_lexer": "ipython2",
   "version": "2.7.6"
  }
 },
 "nbformat": 4,
 "nbformat_minor": 5
}
