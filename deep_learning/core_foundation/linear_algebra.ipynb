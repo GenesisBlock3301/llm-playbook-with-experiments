{
 "cells": [
  {
   "metadata": {
    "collapsed": true
   },
   "cell_type": "markdown",
   "source": "# Linear Algebra, Gradients, Optimization",
   "id": "6ecc6e9e3c1412f1"
  },
  {
   "metadata": {},
   "cell_type": "markdown",
   "source": [
    "## Scalar\n",
    "Data must be arranged in n-dimensional arrays known as tensor. There are different types of tensor.\n",
    "**Scalar** single numbers, so it's dimension is 0. In python, we use the numpy package for handle scalar,\n",
    " vectors and tensor. Let's create Scalar."
   ],
   "id": "451b3db47324bb0"
  },
  {
   "metadata": {
    "ExecuteTime": {
     "end_time": "2025-09-29T06:48:14.481465Z",
     "start_time": "2025-09-29T06:48:14.478528Z"
    }
   },
   "cell_type": "code",
   "source": [
    "import numpy as np\n",
    "\n",
    "x = np.array(8)\n",
    "print(f\"x = {x}\")\n",
    "print(type(x))\n",
    "print(f\"dimension: {x.ndim}\")"
   ],
   "id": "dad1ba25257b4b89",
   "outputs": [
    {
     "name": "stdout",
     "output_type": "stream",
     "text": [
      "x = 8\n",
      "<class 'numpy.ndarray'>\n",
      "dimension: 0\n"
     ]
    }
   ],
   "execution_count": 4
  },
  {
   "metadata": {},
   "cell_type": "markdown",
   "source": [
    "# Vector\n",
    "Vectors are single dimension array. They may contain large number of elements."
   ],
   "id": "6c7a4d275db2057e"
  },
  {
   "metadata": {
    "ExecuteTime": {
     "end_time": "2025-09-29T06:49:45.545822Z",
     "start_time": "2025-09-29T06:49:45.543184Z"
    }
   },
   "cell_type": "code",
   "source": [
    "x = np.array([1, 2, 3])\n",
    "print(f\"x = {x}\")\n",
    "print(type(x))\n",
    "print(f\"dimension: {x.ndim}\")"
   ],
   "id": "b24ce5f6070c431c",
   "outputs": [
    {
     "name": "stdout",
     "output_type": "stream",
     "text": [
      "x = [1 2 3]\n",
      "<class 'numpy.ndarray'>\n",
      "dimension: 1\n"
     ]
    }
   ],
   "execution_count": 5
  },
  {
   "metadata": {
    "ExecuteTime": {
     "end_time": "2025-09-29T06:50:27.115138Z",
     "start_time": "2025-09-29T06:50:27.113073Z"
    }
   },
   "cell_type": "markdown",
   "source": [
    "# Matrics\n",
    "A matrics are two-dimensional array. We create a random array below."
   ],
   "id": "4ce3a414119325d8"
  },
  {
   "metadata": {
    "ExecuteTime": {
     "end_time": "2025-09-29T06:51:47.925008Z",
     "start_time": "2025-09-29T06:51:47.921386Z"
    }
   },
   "cell_type": "code",
   "source": [
    "x = np.zeros((2, 3))\n",
    "print(f\"x = {x}\")\n",
    "print(type(x))\n",
    "print(f\"dimension: {x.ndim}\")"
   ],
   "id": "65329d6eea21dbd0",
   "outputs": [
    {
     "name": "stdout",
     "output_type": "stream",
     "text": [
      "x = [[0. 0. 0.]\n",
      " [0. 0. 0.]]\n",
      "<class 'numpy.ndarray'>\n",
      "dimension: 2\n"
     ]
    }
   ],
   "execution_count": 7
  },
  {
   "metadata": {},
   "cell_type": "markdown",
   "source": [
    "# Tensors\n",
    "An array that is of dimension **three or greater** is denoted as a \"tensor\".\n",
    "Though, vectors and matrics are also special classes of tensors."
   ],
   "id": "6e23cb67946e60bc"
  },
  {
   "metadata": {
    "ExecuteTime": {
     "end_time": "2025-09-29T06:54:35.854088Z",
     "start_time": "2025-09-29T06:54:35.851253Z"
    }
   },
   "cell_type": "code",
   "source": [
    "tensor = np.array([[1, 2, 3], [4, 5, 6], [7, 8, 9]])\n",
    "print(f\"tensor = {tensor}\")\n",
    "print(tensor.shape)"
   ],
   "id": "ea0bad0ba19457c3",
   "outputs": [
    {
     "name": "stdout",
     "output_type": "stream",
     "text": [
      "tensor = [[1 2 3]\n",
      " [4 5 6]\n",
      " [7 8 9]]\n",
      "(3, 3)\n"
     ]
    }
   ],
   "execution_count": 8
  },
  {
   "metadata": {
    "ExecuteTime": {
     "end_time": "2025-09-29T07:02:18.323337Z",
     "start_time": "2025-09-29T07:02:18.312284Z"
    }
   },
   "cell_type": "code",
   "source": [
    "x = np.random.random((2,3,2,4))\n",
    "x"
   ],
   "id": "3f1e0fcf7f05a060",
   "outputs": [
    {
     "data": {
      "text/plain": [
       "array([[[[0.44344904, 0.57047511, 0.05602772, 0.36074661],\n",
       "         [0.24956877, 0.89550552, 0.70174723, 0.44436976]],\n",
       "\n",
       "        [[0.57678527, 0.07311452, 0.93281642, 0.5395309 ],\n",
       "         [0.49905488, 0.80606908, 0.8663641 , 0.92569912]],\n",
       "\n",
       "        [[0.86861264, 0.64746574, 0.28977366, 0.38693207],\n",
       "         [0.47402136, 0.39183623, 0.09145064, 0.82631506]]],\n",
       "\n",
       "\n",
       "       [[[0.60160396, 0.96058521, 0.06821449, 0.39306229],\n",
       "         [0.50045556, 0.24407206, 0.3303789 , 0.58260104]],\n",
       "\n",
       "        [[0.33184714, 0.10973048, 0.09059198, 0.0837623 ],\n",
       "         [0.4588253 , 0.99710091, 0.84581592, 0.59204354]],\n",
       "\n",
       "        [[0.22138326, 0.48473373, 0.15006586, 0.31913841],\n",
       "         [0.14817486, 0.84784188, 0.02580977, 0.5566538 ]]]])"
      ]
     },
     "execution_count": 9,
     "metadata": {},
     "output_type": "execute_result"
    }
   ],
   "execution_count": 9
  },
  {
   "metadata": {},
   "cell_type": "markdown",
   "source": [
    "# Dot Product\n",
    "Two vectors is the element wise multiplication of the vector, then a sum of the products"
   ],
   "id": "9536741328318018"
  },
  {
   "metadata": {
    "ExecuteTime": {
     "end_time": "2025-09-29T07:05:24.780127Z",
     "start_time": "2025-09-29T07:05:24.776515Z"
    }
   },
   "cell_type": "code",
   "source": [
    "x = np.array([1, 2, 3, 4])\n",
    "y = np.array([4, 5, 6, 7])\n",
    "print(x * y)\n",
    "print(x.dot(y))"
   ],
   "id": "42413a8e014da5b",
   "outputs": [
    {
     "name": "stdout",
     "output_type": "stream",
     "text": [
      "[ 4 10 18 28]\n",
      "60\n"
     ]
    }
   ],
   "execution_count": 11
  },
  {
   "metadata": {},
   "cell_type": "markdown",
   "source": "# Norm Of A Vector:",
   "id": "d3b33c26bdc145b9"
  },
  {
   "metadata": {},
   "cell_type": "code",
   "outputs": [],
   "execution_count": null,
   "source": "",
   "id": "b643907c3bd43dcc"
  }
 ],
 "metadata": {
  "kernelspec": {
   "display_name": "Python 3",
   "language": "python",
   "name": "python3"
  },
  "language_info": {
   "codemirror_mode": {
    "name": "ipython",
    "version": 2
   },
   "file_extension": ".py",
   "mimetype": "text/x-python",
   "name": "python",
   "nbconvert_exporter": "python",
   "pygments_lexer": "ipython2",
   "version": "2.7.6"
  }
 },
 "nbformat": 4,
 "nbformat_minor": 5
}
